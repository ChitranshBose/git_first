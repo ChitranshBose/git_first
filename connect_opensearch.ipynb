{
 "cells": [
  {
   "cell_type": "code",
   "execution_count": 70,
   "id": "d8306c55-91a9-46b6-97db-67d74942d861",
   "metadata": {},
   "outputs": [
    {
     "name": "stdout",
     "output_type": "stream",
     "text": [
      "Defaulting to user installation because normal site-packages is not writeable\n",
      "Collecting langchain-community\n",
      "  Downloading langchain_community-0.2.7-py3-none-any.whl (2.2 MB)\n",
      "\u001b[2K     \u001b[38;2;114;156;31m━━━━━━━━━━━━━━━━━━━━━━━━━━━━━━━━━━━━━━━━\u001b[0m \u001b[32m2.2/2.2 MB\u001b[0m \u001b[31m3.6 MB/s\u001b[0m eta \u001b[36m0:00:00\u001b[0m MB/s\u001b[0m eta \u001b[36m0:00:01\u001b[0m:01\u001b[0m\n",
      "\u001b[?25hRequirement already satisfied: langchain-core<0.3.0,>=0.2.12 in /home/chitranshbose/.local/lib/python3.10/site-packages (from langchain-community) (0.2.21)\n",
      "Requirement already satisfied: tenacity!=8.4.0,<9.0.0,>=8.1.0 in /home/chitranshbose/.local/lib/python3.10/site-packages (from langchain-community) (8.5.0)\n",
      "Requirement already satisfied: PyYAML>=5.3 in /usr/lib/python3/dist-packages (from langchain-community) (5.4.1)\n",
      "Requirement already satisfied: langsmith<0.2.0,>=0.1.0 in /home/chitranshbose/.local/lib/python3.10/site-packages (from langchain-community) (0.1.90)\n",
      "Requirement already satisfied: requests<3,>=2 in /home/chitranshbose/.local/lib/python3.10/site-packages (from langchain-community) (2.32.3)\n",
      "Requirement already satisfied: numpy<2,>=1 in /home/chitranshbose/.local/lib/python3.10/site-packages (from langchain-community) (1.26.4)\n",
      "Requirement already satisfied: aiohttp<4.0.0,>=3.8.3 in /home/chitranshbose/.local/lib/python3.10/site-packages (from langchain-community) (3.9.5)\n",
      "Requirement already satisfied: SQLAlchemy<3,>=1.4 in /home/chitranshbose/.local/lib/python3.10/site-packages (from langchain-community) (2.0.31)\n",
      "Collecting dataclasses-json<0.7,>=0.5.7\n",
      "  Downloading dataclasses_json-0.6.7-py3-none-any.whl (28 kB)\n",
      "Requirement already satisfied: langchain<0.3.0,>=0.2.7 in /home/chitranshbose/.local/lib/python3.10/site-packages (from langchain-community) (0.2.9)\n",
      "Requirement already satisfied: frozenlist>=1.1.1 in /home/chitranshbose/.local/lib/python3.10/site-packages (from aiohttp<4.0.0,>=3.8.3->langchain-community) (1.4.1)\n",
      "Requirement already satisfied: aiosignal>=1.1.2 in /home/chitranshbose/.local/lib/python3.10/site-packages (from aiohttp<4.0.0,>=3.8.3->langchain-community) (1.3.1)\n",
      "Requirement already satisfied: multidict<7.0,>=4.5 in /home/chitranshbose/.local/lib/python3.10/site-packages (from aiohttp<4.0.0,>=3.8.3->langchain-community) (6.0.5)\n",
      "Requirement already satisfied: yarl<2.0,>=1.0 in /home/chitranshbose/.local/lib/python3.10/site-packages (from aiohttp<4.0.0,>=3.8.3->langchain-community) (1.9.4)\n",
      "Requirement already satisfied: async-timeout<5.0,>=4.0 in /home/chitranshbose/.local/lib/python3.10/site-packages (from aiohttp<4.0.0,>=3.8.3->langchain-community) (4.0.3)\n",
      "Requirement already satisfied: attrs>=17.3.0 in /home/chitranshbose/.local/lib/python3.10/site-packages (from aiohttp<4.0.0,>=3.8.3->langchain-community) (23.2.0)\n",
      "Collecting marshmallow<4.0.0,>=3.18.0\n",
      "  Downloading marshmallow-3.21.3-py3-none-any.whl (49 kB)\n",
      "\u001b[2K     \u001b[38;2;114;156;31m━━━━━━━━━━━━━━━━━━━━━━━━━━━━━━━━━━━━━━━━\u001b[0m \u001b[32m49.2/49.2 KB\u001b[0m \u001b[31m5.6 MB/s\u001b[0m eta \u001b[36m0:00:00\u001b[0m\n",
      "\u001b[?25hCollecting typing-inspect<1,>=0.4.0\n",
      "  Downloading typing_inspect-0.9.0-py3-none-any.whl (8.8 kB)\n",
      "Requirement already satisfied: pydantic<3,>=1 in /home/chitranshbose/.local/lib/python3.10/site-packages (from langchain<0.3.0,>=0.2.7->langchain-community) (2.7.4)\n",
      "Requirement already satisfied: langchain-text-splitters<0.3.0,>=0.2.0 in /home/chitranshbose/.local/lib/python3.10/site-packages (from langchain<0.3.0,>=0.2.7->langchain-community) (0.2.2)\n",
      "Requirement already satisfied: packaging<25,>=23.2 in /home/chitranshbose/.local/lib/python3.10/site-packages (from langchain-core<0.3.0,>=0.2.12->langchain-community) (24.1)\n",
      "Requirement already satisfied: jsonpatch<2.0,>=1.33 in /home/chitranshbose/.local/lib/python3.10/site-packages (from langchain-core<0.3.0,>=0.2.12->langchain-community) (1.33)\n",
      "Requirement already satisfied: orjson<4.0.0,>=3.9.14 in /home/chitranshbose/.local/lib/python3.10/site-packages (from langsmith<0.2.0,>=0.1.0->langchain-community) (3.10.6)\n",
      "Requirement already satisfied: idna<4,>=2.5 in /usr/lib/python3/dist-packages (from requests<3,>=2->langchain-community) (3.3)\n",
      "Requirement already satisfied: urllib3<3,>=1.21.1 in /home/chitranshbose/.local/lib/python3.10/site-packages (from requests<3,>=2->langchain-community) (2.2.2)\n",
      "Requirement already satisfied: certifi>=2017.4.17 in /home/chitranshbose/.local/lib/python3.10/site-packages (from requests<3,>=2->langchain-community) (2024.7.4)\n",
      "Requirement already satisfied: charset-normalizer<4,>=2 in /home/chitranshbose/.local/lib/python3.10/site-packages (from requests<3,>=2->langchain-community) (3.3.2)\n",
      "Requirement already satisfied: typing-extensions>=4.6.0 in /home/chitranshbose/.local/lib/python3.10/site-packages (from SQLAlchemy<3,>=1.4->langchain-community) (4.12.2)\n",
      "Requirement already satisfied: greenlet!=0.4.17 in /home/chitranshbose/.local/lib/python3.10/site-packages (from SQLAlchemy<3,>=1.4->langchain-community) (3.0.3)\n",
      "Requirement already satisfied: jsonpointer>=1.9 in /home/chitranshbose/.local/lib/python3.10/site-packages (from jsonpatch<2.0,>=1.33->langchain-core<0.3.0,>=0.2.12->langchain-community) (3.0.0)\n",
      "Requirement already satisfied: pydantic-core==2.18.4 in /home/chitranshbose/.local/lib/python3.10/site-packages (from pydantic<3,>=1->langchain<0.3.0,>=0.2.7->langchain-community) (2.18.4)\n",
      "Requirement already satisfied: annotated-types>=0.4.0 in /home/chitranshbose/.local/lib/python3.10/site-packages (from pydantic<3,>=1->langchain<0.3.0,>=0.2.7->langchain-community) (0.7.0)\n",
      "Collecting mypy-extensions>=0.3.0\n",
      "  Downloading mypy_extensions-1.0.0-py3-none-any.whl (4.7 kB)\n",
      "Installing collected packages: mypy-extensions, marshmallow, typing-inspect, dataclasses-json, langchain-community\n",
      "Successfully installed dataclasses-json-0.6.7 langchain-community-0.2.7 marshmallow-3.21.3 mypy-extensions-1.0.0 typing-inspect-0.9.0\n"
     ]
    }
   ],
   "source": [
    "# !pip install opensearch-py\n",
    "# !pip install boto3\n",
    "#!pip3 install openpyxl\n",
    "# !pip3 install openpyxl --upgrade\n",
    "# !conda install pandas\n",
    "# !conda install openpyxl\n",
    "!pip3 install -U langchain-community"
   ]
  },
  {
   "cell_type": "code",
   "execution_count": 1,
   "id": "921847d8-d70c-4690-9fcc-960d047a56d4",
   "metadata": {},
   "outputs": [],
   "source": [
    "from opensearchpy import OpenSearch, RequestsHttpConnection, AWSV4SignerAuth\n",
    "import boto3\n",
    "import pandas as pd\n",
    "import numpy as np\n",
    "import requests\n",
    "from requests_aws4auth import AWS4Auth\n",
    "from requests.auth import HTTPBasicAuth\n",
    "import os\n",
    "from botocore.config import Config"
   ]
  },
  {
   "cell_type": "code",
   "execution_count": null,
   "id": "16cc5aa3-1899-4227-8f3c-3b2827392ac5",
   "metadata": {},
   "outputs": [],
   "source": [
    "# host = \"\"\n",
    "# reg = \"ap-southeast-2\"\n",
    "# ser  = \"es(service) or aoss(serverless)\"\n",
    "# cred = boto3.Session().get_credentials()\n",
    "# auth = AWSV4SignerAuth(cred, reg, ser)\n",
    "# port = 443\n",
    "# base_uri = f\"bedrock.{reg}.amazonaws.com\""
   ]
  },
  {
   "cell_type": "code",
   "execution_count": null,
   "id": "42be91a6-05f3-4a41-a612-181f20700097",
   "metadata": {},
   "outputs": [],
   "source": [
    "# import boto3"
   ]
  },
  {
   "cell_type": "code",
   "execution_count": null,
   "id": "bb57fa3d-cf2c-4620-a40d-3a8d7055cacb",
   "metadata": {},
   "outputs": [],
   "source": []
  },
  {
   "cell_type": "code",
   "execution_count": 175,
   "id": "b10c2763-0e61-4367-bb93-2309a9d75f6b",
   "metadata": {},
   "outputs": [],
   "source": [
    "client = OpenSearch(hosts = [{'host':'localhost', 'port': 443}], http_auth = auth, use_ssl = True, verify_certs = True, connection_clas = RequestsHttpConnection, pool_maxsize = 20)"
   ]
  },
  {
   "cell_type": "code",
   "execution_count": 176,
   "id": "a4e3f2f9-2c37-4529-afd4-a59c88adf3b0",
   "metadata": {},
   "outputs": [],
   "source": [
    "index_body = {\n",
    "    'settings': {\n",
    "        'number_of_shards': 4,\n",
    "        'number_of_replicas': 3\n",
    "    },\n",
    "    'mappings': {\n",
    "        'properties': {\n",
    "            'id': {'type': 'integer'},\n",
    "            'desc_reptd': {'type': 'text'},\n",
    "            'llt_name': {'type': 'text'},\n",
    "            'pt_term': {'type':'text'},\n",
    "            'pt_code': {'type': 'text'},\n",
    "            'score': {'type': 'float'},\n",
    "            'embedding': {\n",
    "                'type': 'dense_vector',\n",
    "                'dims': 1024\n",
    "            }\n",
    "        }\n",
    "    }\n",
    "}\n",
    "\n",
    "index_name = \"medra\"\n",
    "client.indices.create(index=index_name, body=index_body)\n"
   ]
  },
  {
   "cell_type": "code",
   "execution_count": null,
   "id": "79009263-1bd2-4e10-be19-33e2e4f751ad",
   "metadata": {},
   "outputs": [],
   "source": [
    "for ind, row in data.iterrows():\n",
    "    doc = row.to_dict()\n",
    "    client.index(index=index_name, body=doc, id=doc['id'])\n"
   ]
  },
  {
   "cell_type": "code",
   "execution_count": null,
   "id": "9957cfee-5326-4203-919e-2fe24208524f",
   "metadata": {},
   "outputs": [],
   "source": [
    "# def index_embd(document_id, embd):\n",
    "#     document = {\n",
    "#         'embedding': list(embd)  #josn serialise\n",
    "#     }\n",
    "#     res = client.index(\n",
    "#         index='medra', #os index\n",
    "#         id=document_id,\n",
    "#         body=document\n",
    "#     )\n",
    "#     return res"
   ]
  },
  {
   "cell_type": "code",
   "execution_count": null,
   "id": "867fdec0-53d9-426b-8000-b7d32d4f5bb1",
   "metadata": {},
   "outputs": [],
   "source": [
    "def search(term, index, return_fields, k, vec):\n",
    "    query = {\n",
    "        \"size\": k,\n",
    "        \"query\": {\n",
    "            \"bool\": {\n",
    "                \"must\": [\n",
    "                    {\n",
    "                        \"knn\": {\n",
    "                            \"field\": \"embedding_field\",  \n",
    "                            \"query_vector\": vec,\n",
    "                            \"k\": k,\n",
    "                        }\n",
    "                    },\n",
    "                    {\n",
    "                        \"multi_match\": {\n",
    "                            \"query\": term,\n",
    "                            \"fields\": ['DESC_REPTD']#,'LLT_NAME','PT_NAME','PT_CODE','SCORE']  \n",
    "                        }\n",
    "                    }\n",
    "                ]\n",
    "            }\n",
    "        }\n",
    "    }\n",
    "    query[\"_source\"] = return_fields\n",
    "    ls_data = []\n",
    "    df_match_data_res = pd.DataFrame(columns = [\"desc_reptd\",\"llt_name\",\"pt_term\",\"pt_code\",\"score\"])\n",
    "    #res = client.search(index = index, body = {\"query\":{\"multi-match\":{\"query\":term, \"fields\":['DESC_REPTD','LLT_NAME','PT_NAME','PT_CODE','SCORE']}}})\n",
    "    res = client.search(index = index, body = query)\n",
    "    hits = res.get('hits',{}).get('hits',[])\n",
    "    for doc in hits:\n",
    "        max_score = doc['max_score']\n",
    "        ls_data = [doc['_source']['DESC_REPTD'], doc['_source']['LLT_NAME'], doc['_source']['PT_NAME'], doc['_source']['_source']['PT_CODE'], doc['_score']]\n",
    "        df_match_data_res.append(pd.Series(ls_data, index = df_match_data_res.columns), ignore_index = True)\n",
    "    df_match_data_res = df_match_data_res.drop_duplicates(['pt_term','pt_code'])   \n",
    "    df_match_data_res = df_match_data_res.astype({\"score\":float})\n",
    "    #df_match_data_res = df_match_data_res.nlargest(5,\"score\")\n",
    "    df_match_data_res['score'] = (df_match_data_res['score']/max_score)*95\n",
    "    df_match_data_res['score'] = df_match_data_res['score'].apply(lambda x: float(x))\n",
    "    return df_match_data_res"
   ]
  },
  {
   "cell_type": "code",
   "execution_count": null,
   "id": "fecf1b43-1e19-4ba7-8e94-18f690989b69",
   "metadata": {},
   "outputs": [],
   "source": []
  },
  {
   "cell_type": "code",
   "execution_count": null,
   "id": "393972dd-ad74-4c82-a4d0-e54427969c65",
   "metadata": {},
   "outputs": [],
   "source": [
    "def kickback(term, return_fields, id, pt_code):\n",
    "    doc = {\"pt_code\":  pt_code}\n",
    "    body = {\"doc\": doc, \"doc_as_upsert\": True}\n",
    "    client.update(index = index, body = body, id = id, refresh=True)\n",
    "    "
   ]
  },
  {
   "cell_type": "code",
   "execution_count": null,
   "id": "48b5a832-a847-4d4b-a2ae-978b58bb78fe",
   "metadata": {},
   "outputs": [],
   "source": [
    "def kickback(term, index, id, pt_code):\n",
    "        query = {\n",
    "                      \"query\": {\n",
    "                        \"bool\": {\n",
    "                          \"must\": [\n",
    "                            {\n",
    "                              \"match\": {\n",
    "                                \"desc_reptd\": term\n",
    "                              }\n",
    "                            }\n",
    "                          ]\n",
    "                        }\n",
    "                      }\n",
    "                    }\n",
    "\n",
    "    res = client.search(index = index, body = query)\n",
    "    hits = res.get('hits',{}).get('hits',[])\n",
    "    doc = {\"pt_code\":  pt_code}\n",
    "    body = {\"doc\": doc}\n",
    "    if len(hits)>0:\n",
    "        client.update(index = index, body = body, id = id)\n",
    "    else:\n",
    "        client.index(index=index, body= body, id=id )"
   ]
  },
  {
   "cell_type": "code",
   "execution_count": null,
   "id": "40d3b197-7482-4e57-8250-ac967f7b2355",
   "metadata": {},
   "outputs": [],
   "source": [
    "####################################################################################################################"
   ]
  },
  {
   "cell_type": "code",
   "execution_count": 2,
   "id": "b47bcf35-6e93-4604-9c93-489567f82fcf",
   "metadata": {},
   "outputs": [],
   "source": [
    "import json\n",
    "import boto3"
   ]
  },
  {
   "cell_type": "code",
   "execution_count": 121,
   "id": "da740f64-7405-4dd9-b473-75620ca35a77",
   "metadata": {
    "scrolled": true
   },
   "outputs": [],
   "source": [
    "# dir(boto3_bedrock_runtime)"
   ]
  },
  {
   "cell_type": "code",
   "execution_count": 120,
   "id": "a8f23b8d-f108-4a9d-82e1-7a863b4be731",
   "metadata": {
    "scrolled": true
   },
   "outputs": [],
   "source": [
    "# help(boto3_bedrock_runtime.get_foundation_model)"
   ]
  },
  {
   "cell_type": "code",
   "execution_count": 166,
   "id": "06691cc8-8e41-4f90-aae1-c0b0a27613b3",
   "metadata": {},
   "outputs": [],
   "source": [
    "def get_client(assumed_role = None, region = 'us-east-1', runtime = True, external_id = None, ep_url = None):\n",
    "    session_kwargs = {\"region_name\":region} \n",
    "    client_kwargs = {**session_kwargs}\n",
    "    profile_name = os.environ.get(\"AWS_PROFILE\")\n",
    "    if profile_name:\n",
    "        print(f\"  Using profile: {profile_name}\")\n",
    "        session_kwargs[\"profile_name\"] = profile_name\n",
    "\n",
    "    retry_config = Config(region_name = region, retries = {\n",
    "        \"max_attempts\": 10,\n",
    "        \"mode\": \"standard\",\n",
    "    },)\n",
    "\n",
    "    sess = boto3.Session(**session_kwargs)\n",
    "\n",
    "    if assumed_role:\n",
    "            \n",
    "            sts = session.client(\"sts\")\n",
    "            if external_id:\n",
    "                response = sts.assume_role(\n",
    "                    RoleArn=str(assumed_role),\n",
    "                    RoleSessionName=\"langchain-llm-1\",\n",
    "                    ExternalId=external_id\n",
    "                )\n",
    "            else:\n",
    "                response = sts.assume_role(\n",
    "                    RoleArn=str(assumed_role),\n",
    "                    RoleSessionName=\"langchain-llm-1\",\n",
    "                )\n",
    "            \n",
    "            client_kwargs[\"aws_access_key_id\"] = response[\"Credentials\"][\"AccessKeyId\"]\n",
    "            client_kwargs[\"aws_secret_access_key\"] = response[\"Credentials\"][\"SecretAccessKey\"]\n",
    "            client_kwargs[\"aws_session_token\"] = response[\"Credentials\"][\"SessionToken\"]\n",
    "    print(f\"client_kwargs: {client_kwargs}\")\n",
    "    if runtime:\n",
    "        service= 'bedrock-runtime'\n",
    "    else: service = 'bedrock'\n",
    "\n",
    "    if ep_url:\n",
    "        bedrock_client = sess.client(service_name=service,config=retry_config,endpoint_url = ep_url, **client_kwargs )\n",
    "    else:\n",
    "        bedrock_client = sess.client(service_name=service,config=retry_config, **client_kwargs )\n",
    "    print(\"bedrock client created\")\n",
    "    print(bedrock_client._endpoint)\n",
    "    return bedrock_client\n",
    "       "
   ]
  },
  {
   "cell_type": "code",
   "execution_count": 167,
   "id": "2c1b5e2c-caab-4a1d-859f-471516344abb",
   "metadata": {},
   "outputs": [],
   "source": [
    "class Emedding(object):\n",
    "    accept = \"application/json\"\n",
    "    content_type = \"application/json\"\n",
    "    def __init__(self, model = \"amazon.titan-embed-text-v2:0\",region_name = 'us-east-1', boto3_client = None):\n",
    "        \n",
    "        if boto3_client :\n",
    "            self.bedrock_boto3 = boto3_client\n",
    "        else:\n",
    "            \n",
    "            self.bedrock_boto3 = boto3.client(service_name = 'bedrock-runtime',region_name = region_name)\n",
    "        self.model = model\n",
    "\n",
    "    def __call__(self, data, dim, norm):\n",
    "        \n",
    "        body = json.dumps({\n",
    "            \"inputText\": data,\n",
    "            \"dimensions\": dim,\n",
    "            \"normalize\": norm\n",
    "        })\n",
    "        \n",
    "        res = self.bedrock_boto3.invoke_model(body = body, modelId = self.model, accept = self.accept, contentType = self.content_type)\n",
    "        \n",
    "        res_body = json.loads(res.get('body').read())\n",
    "        print(f\"Embeddins: {res_body}\")\n",
    "        return res_body['embedding']"
   ]
  },
  {
   "cell_type": "code",
   "execution_count": 168,
   "id": "12e18b59-7419-4b2d-95aa-dc10c96b502b",
   "metadata": {},
   "outputs": [
    {
     "name": "stdout",
     "output_type": "stream",
     "text": [
      "client_kwargs: {'region_name': 'us-east-1'}\n",
      "bedrock client created\n",
      "bedrock-runtime(https://bedrock-runtime.us-east-1.amazonaws.com)\n"
     ]
    },
    {
     "data": {
      "text/plain": [
       "<__main__.Emedding at 0x7a366b1f60e0>"
      ]
     },
     "execution_count": 168,
     "metadata": {},
     "output_type": "execute_result"
    }
   ],
   "source": [
    "boto3_bedrock_runtime = get_client() \n",
    "bedrock_embeddings = Emedding(model = \"amazon.titan-embed-text-v2:0\", boto3_client=boto3_bedrock_runtime)\n",
    "bedrock_embeddings"
   ]
  },
  {
   "cell_type": "code",
   "execution_count": 169,
   "id": "fd8eeb4f-ba73-45de-a1a6-04b1cf032320",
   "metadata": {},
   "outputs": [],
   "source": [
    "# prompt_data = \"Amazon Bedrock supports foundation models from industry-leading providers such as \\\n",
    "# AI21 Labs, Anthropic, Stability AI, and Amazon. Choose the model that is best suited to achieving \\\n",
    "# your unique goals.\"\n",
    "\n",
    "\n",
    "# modelId = \"amazon.titan-embed-text-v2:0\"  # \n",
    "# accept = \"application/json\"\n",
    "# contentType = \"application/json\"\n",
    "\n",
    "\n",
    "\n",
    "# sample_model_input={\n",
    "#     \"inputText\": prompt_data,\n",
    "#     \"dimensions\": 256,\n",
    "#     \"normalize\": True\n",
    "# }\n",
    "\n",
    "# body = json.dumps(sample_model_input)\n",
    "\n",
    "# response = boto3_bedrock_runtime.invoke_model(body=body, modelId=modelId, accept=accept, contentType=contentType)\n",
    "\n",
    "# response_body = json.loads(response.get('body').read())\n",
    "\n",
    "# embedding = response_body.get(\"embedding\")\n",
    "# print(f\"The embedding vector has {len(embedding)} values\\n{embedding[0:3]+['...']+embedding[-3:]}\")"
   ]
  },
  {
   "cell_type": "code",
   "execution_count": 170,
   "id": "3a2c1466-e64e-466f-b3f2-d3d190014e34",
   "metadata": {},
   "outputs": [
    {
     "name": "stdout",
     "output_type": "stream",
     "text": [
      "client_kwargs: {'region_name': 'us-east-1'}\n",
      "bedrock client created\n",
      "bedrock-runtime(https://bedrock-runtime.us-east-1.amazonaws.com)\n"
     ]
    }
   ],
   "source": [
    "if __name__ == '__main__':\n",
    "    dim = 1024\n",
    "    norm  = True\n",
    "    #boto3_bedrock_runtime = boto3.client('bedrock-runtime',region_name = 'us-east-1')\n",
    "    boto3_bedrock_runtime = get_client()\n",
    "    embds_obj = Emedding(model = \"amazon.titan-embed-text-v2:0\",region_name = 'us-east-1',boto3_client = boto3_bedrock_runtime)\n",
    "    text = \"having high fever\"\n",
    "    # embd = embds_obj(text, dim, norm)"
   ]
  },
  {
   "cell_type": "code",
   "execution_count": 114,
   "id": "2a68764d-1633-43e8-bd2c-3d4a7455829c",
   "metadata": {},
   "outputs": [],
   "source": [
    "# session = boto3.session.Session()"
   ]
  },
  {
   "cell_type": "code",
   "execution_count": 119,
   "id": "ba909bd2-53ef-4e1c-bc2f-0589f14736ba",
   "metadata": {},
   "outputs": [],
   "source": [
    "# help(boto3.session.Session())"
   ]
  },
  {
   "cell_type": "code",
   "execution_count": null,
   "id": "970f9d8d-2f90-4c4f-bcf1-a9502704c214",
   "metadata": {},
   "outputs": [],
   "source": [
    "# data.to_json(\"autocoded.json\")"
   ]
  },
  {
   "cell_type": "code",
   "execution_count": null,
   "id": "6cdfa73b-ac56-4b95-8e8f-d766151964b3",
   "metadata": {},
   "outputs": [],
   "source": [
    "json_data"
   ]
  },
  {
   "cell_type": "code",
   "execution_count": null,
   "id": "3336a394-18d9-4a98-9b01-115e1b91f6a1",
   "metadata": {},
   "outputs": [],
   "source": []
  },
  {
   "cell_type": "code",
   "execution_count": null,
   "id": "9434b33f-8bca-488e-bc66-7937872dd722",
   "metadata": {},
   "outputs": [],
   "source": [
    "d = d.reset_index().to_json(orient='records')\n"
   ]
  },
  {
   "cell_type": "code",
   "execution_count": null,
   "id": "5b9f33f9-baab-45d7-bd0f-b612eeb05c52",
   "metadata": {},
   "outputs": [],
   "source": [
    "d"
   ]
  },
  {
   "cell_type": "code",
   "execution_count": null,
   "id": "3b0a58b6-cb05-4ed0-88f7-e43d76d5d782",
   "metadata": {},
   "outputs": [],
   "source": [
    "#####################################################################################################################"
   ]
  },
  {
   "cell_type": "code",
   "execution_count": 2,
   "id": "e4aea9b0-f90e-47ed-bd7c-29808466fbf5",
   "metadata": {},
   "outputs": [],
   "source": [
    "data_terms = pd.read_excel('/home/chitranshbose/Downloads/Data for MedDRA AutoCoding_EL.xlsx', sheet_name='Terms')"
   ]
  },
  {
   "cell_type": "code",
   "execution_count": 4,
   "id": "975bba20-9cc5-4556-b2c9-d7ab0e902824",
   "metadata": {},
   "outputs": [
    {
     "data": {
      "text/html": [
       "<div>\n",
       "<style scoped>\n",
       "    .dataframe tbody tr th:only-of-type {\n",
       "        vertical-align: middle;\n",
       "    }\n",
       "\n",
       "    .dataframe tbody tr th {\n",
       "        vertical-align: top;\n",
       "    }\n",
       "\n",
       "    .dataframe thead th {\n",
       "        text-align: right;\n",
       "    }\n",
       "</style>\n",
       "<table border=\"1\" class=\"dataframe\">\n",
       "  <thead>\n",
       "    <tr style=\"text-align: right;\">\n",
       "      <th></th>\n",
       "      <th>CASE_ID</th>\n",
       "      <th>SEQ_NUM</th>\n",
       "      <th>English Reported</th>\n",
       "      <th>English Coded LLT</th>\n",
       "      <th>English Coded PT</th>\n",
       "      <th>Japanese Reported</th>\n",
       "      <th>Japanese Coded LLT</th>\n",
       "      <th>Japanese Coded PT</th>\n",
       "    </tr>\n",
       "  </thead>\n",
       "  <tbody>\n",
       "    <tr>\n",
       "      <th>0</th>\n",
       "      <td>10014401</td>\n",
       "      <td>10026601</td>\n",
       "      <td>ULCER LOWER EXTREMITY</td>\n",
       "      <td>Lower extremities ulcers of</td>\n",
       "      <td>Skin ulcer</td>\n",
       "      <td>皮膚潰瘍</td>\n",
       "      <td>下肢潰瘍</td>\n",
       "      <td>皮膚潰瘍</td>\n",
       "    </tr>\n",
       "    <tr>\n",
       "      <th>1</th>\n",
       "      <td>10014401</td>\n",
       "      <td>10026701</td>\n",
       "      <td>ANTERIOR ACUTE MYOCARDIAL INFARCTION</td>\n",
       "      <td>Acute myocardial infarction, of other anterior...</td>\n",
       "      <td>Acute myocardial infarction</td>\n",
       "      <td>急性心筋梗塞</td>\n",
       "      <td>他の前壁急性心筋梗塞</td>\n",
       "      <td>急性心筋梗塞</td>\n",
       "    </tr>\n",
       "    <tr>\n",
       "      <th>2</th>\n",
       "      <td>10014401</td>\n",
       "      <td>10026801</td>\n",
       "      <td>CARDIOGENIC SHOCK</td>\n",
       "      <td>Cardiogenic shock</td>\n",
       "      <td>Cardiogenic shock</td>\n",
       "      <td>心原性ショック</td>\n",
       "      <td>心原性ショック</td>\n",
       "      <td>心原性ショック</td>\n",
       "    </tr>\n",
       "    <tr>\n",
       "      <th>3</th>\n",
       "      <td>10014401</td>\n",
       "      <td>10026901</td>\n",
       "      <td>VENTRICULAR FIBRILLATION</td>\n",
       "      <td>Ventricular fibrillation</td>\n",
       "      <td>Ventricular fibrillation</td>\n",
       "      <td>心室細動</td>\n",
       "      <td>心室細動</td>\n",
       "      <td>心室細動</td>\n",
       "    </tr>\n",
       "    <tr>\n",
       "      <th>4</th>\n",
       "      <td>10014401</td>\n",
       "      <td>10027001</td>\n",
       "      <td>THORACIC PAIN</td>\n",
       "      <td>Thoracic pain</td>\n",
       "      <td>Chest pain</td>\n",
       "      <td>胸痛</td>\n",
       "      <td>胸郭痛</td>\n",
       "      <td>胸痛</td>\n",
       "    </tr>\n",
       "    <tr>\n",
       "      <th>...</th>\n",
       "      <td>...</td>\n",
       "      <td>...</td>\n",
       "      <td>...</td>\n",
       "      <td>...</td>\n",
       "      <td>...</td>\n",
       "      <td>...</td>\n",
       "      <td>...</td>\n",
       "      <td>...</td>\n",
       "    </tr>\n",
       "    <tr>\n",
       "      <th>1047996</th>\n",
       "      <td>156859653</td>\n",
       "      <td>1936022</td>\n",
       "      <td>No adverse event</td>\n",
       "      <td>No adverse drug effect</td>\n",
       "      <td>No adverse event</td>\n",
       "      <td>有害事象なし</td>\n",
       "      <td>有害事象なし</td>\n",
       "      <td>有害事象なし</td>\n",
       "    </tr>\n",
       "    <tr>\n",
       "      <th>1047997</th>\n",
       "      <td>156859654</td>\n",
       "      <td>1</td>\n",
       "      <td>No adverse event</td>\n",
       "      <td>No adverse event</td>\n",
       "      <td>No adverse event</td>\n",
       "      <td>治療非遵守</td>\n",
       "      <td>有害事象なし</td>\n",
       "      <td>有害事象なし</td>\n",
       "    </tr>\n",
       "    <tr>\n",
       "      <th>1047998</th>\n",
       "      <td>156859655</td>\n",
       "      <td>1</td>\n",
       "      <td>peripheral leaking edema</td>\n",
       "      <td>Peripheral oedema</td>\n",
       "      <td>Oedema peripheral</td>\n",
       "      <td>末梢性浮腫</td>\n",
       "      <td>末梢性浮腫</td>\n",
       "      <td>末梢性浮腫</td>\n",
       "    </tr>\n",
       "    <tr>\n",
       "      <th>1047999</th>\n",
       "      <td>156859656</td>\n",
       "      <td>1</td>\n",
       "      <td>Potassium level was too high</td>\n",
       "      <td>Potassium high</td>\n",
       "      <td>Blood potassium increased</td>\n",
       "      <td>血中カリウム増加</td>\n",
       "      <td>カリウム高値</td>\n",
       "      <td>血中カリウム増加</td>\n",
       "    </tr>\n",
       "    <tr>\n",
       "      <th>1048000</th>\n",
       "      <td>156856496</td>\n",
       "      <td>1936015</td>\n",
       "      <td>severe nausea</td>\n",
       "      <td>Nausea</td>\n",
       "      <td>Nausea</td>\n",
       "      <td>嘔吐</td>\n",
       "      <td>悪心</td>\n",
       "      <td>悪心</td>\n",
       "    </tr>\n",
       "  </tbody>\n",
       "</table>\n",
       "<p>1048001 rows × 8 columns</p>\n",
       "</div>"
      ],
      "text/plain": [
       "           CASE_ID   SEQ_NUM                      English Reported  \\\n",
       "0         10014401  10026601                 ULCER LOWER EXTREMITY   \n",
       "1         10014401  10026701  ANTERIOR ACUTE MYOCARDIAL INFARCTION   \n",
       "2         10014401  10026801                     CARDIOGENIC SHOCK   \n",
       "3         10014401  10026901              VENTRICULAR FIBRILLATION   \n",
       "4         10014401  10027001                         THORACIC PAIN   \n",
       "...            ...       ...                                   ...   \n",
       "1047996  156859653   1936022                      No adverse event   \n",
       "1047997  156859654         1                      No adverse event   \n",
       "1047998  156859655         1              peripheral leaking edema   \n",
       "1047999  156859656         1          Potassium level was too high   \n",
       "1048000  156856496   1936015                         severe nausea   \n",
       "\n",
       "                                         English Coded LLT  \\\n",
       "0                              Lower extremities ulcers of   \n",
       "1        Acute myocardial infarction, of other anterior...   \n",
       "2                                        Cardiogenic shock   \n",
       "3                                 Ventricular fibrillation   \n",
       "4                                            Thoracic pain   \n",
       "...                                                    ...   \n",
       "1047996                             No adverse drug effect   \n",
       "1047997                                   No adverse event   \n",
       "1047998                                  Peripheral oedema   \n",
       "1047999                                     Potassium high   \n",
       "1048000                                             Nausea   \n",
       "\n",
       "                    English Coded PT Japanese Reported Japanese Coded LLT  \\\n",
       "0                         Skin ulcer              皮膚潰瘍               下肢潰瘍   \n",
       "1        Acute myocardial infarction            急性心筋梗塞         他の前壁急性心筋梗塞   \n",
       "2                  Cardiogenic shock           心原性ショック            心原性ショック   \n",
       "3           Ventricular fibrillation              心室細動               心室細動   \n",
       "4                         Chest pain                胸痛                胸郭痛   \n",
       "...                              ...               ...                ...   \n",
       "1047996             No adverse event            有害事象なし             有害事象なし   \n",
       "1047997             No adverse event             治療非遵守             有害事象なし   \n",
       "1047998            Oedema peripheral             末梢性浮腫              末梢性浮腫   \n",
       "1047999    Blood potassium increased          血中カリウム増加             カリウム高値   \n",
       "1048000                       Nausea                嘔吐                 悪心   \n",
       "\n",
       "        Japanese Coded PT  \n",
       "0                    皮膚潰瘍  \n",
       "1                  急性心筋梗塞  \n",
       "2                 心原性ショック  \n",
       "3                    心室細動  \n",
       "4                      胸痛  \n",
       "...                   ...  \n",
       "1047996            有害事象なし  \n",
       "1047997            有害事象なし  \n",
       "1047998             末梢性浮腫  \n",
       "1047999          血中カリウム増加  \n",
       "1048000                悪心  \n",
       "\n",
       "[1048001 rows x 8 columns]"
      ]
     },
     "execution_count": 4,
     "metadata": {},
     "output_type": "execute_result"
    }
   ],
   "source": [
    "data_terms"
   ]
  },
  {
   "cell_type": "code",
   "execution_count": 14,
   "id": "27f211ba-ea45-4b0d-80d6-86c1424011a4",
   "metadata": {},
   "outputs": [],
   "source": [
    "# data = data_terms[['English Reported', 'English Coded LLT','English Coded PT']].iloc[:100,:]\n",
    "data = data_terms[['English Reported']].iloc[:1000,:]"
   ]
  },
  {
   "cell_type": "code",
   "execution_count": 15,
   "id": "1fbe057a-aead-4f51-9d37-40d6d0978b8c",
   "metadata": {},
   "outputs": [
    {
     "data": {
      "text/html": [
       "<div>\n",
       "<style scoped>\n",
       "    .dataframe tbody tr th:only-of-type {\n",
       "        vertical-align: middle;\n",
       "    }\n",
       "\n",
       "    .dataframe tbody tr th {\n",
       "        vertical-align: top;\n",
       "    }\n",
       "\n",
       "    .dataframe thead th {\n",
       "        text-align: right;\n",
       "    }\n",
       "</style>\n",
       "<table border=\"1\" class=\"dataframe\">\n",
       "  <thead>\n",
       "    <tr style=\"text-align: right;\">\n",
       "      <th></th>\n",
       "      <th>English Reported</th>\n",
       "    </tr>\n",
       "  </thead>\n",
       "  <tbody>\n",
       "    <tr>\n",
       "      <th>0</th>\n",
       "      <td>ULCER LOWER EXTREMITY</td>\n",
       "    </tr>\n",
       "    <tr>\n",
       "      <th>1</th>\n",
       "      <td>ANTERIOR ACUTE MYOCARDIAL INFARCTION</td>\n",
       "    </tr>\n",
       "    <tr>\n",
       "      <th>2</th>\n",
       "      <td>CARDIOGENIC SHOCK</td>\n",
       "    </tr>\n",
       "    <tr>\n",
       "      <th>3</th>\n",
       "      <td>VENTRICULAR FIBRILLATION</td>\n",
       "    </tr>\n",
       "    <tr>\n",
       "      <th>4</th>\n",
       "      <td>THORACIC PAIN</td>\n",
       "    </tr>\n",
       "    <tr>\n",
       "      <th>...</th>\n",
       "      <td>...</td>\n",
       "    </tr>\n",
       "    <tr>\n",
       "      <th>995</th>\n",
       "      <td>COUGH</td>\n",
       "    </tr>\n",
       "    <tr>\n",
       "      <th>996</th>\n",
       "      <td>RIGHT UPPER QUADRANT PAIN</td>\n",
       "    </tr>\n",
       "    <tr>\n",
       "      <th>997</th>\n",
       "      <td>FEBRILE NEUTROPENIA</td>\n",
       "    </tr>\n",
       "    <tr>\n",
       "      <th>998</th>\n",
       "      <td>NAUSEA/VOMITING</td>\n",
       "    </tr>\n",
       "    <tr>\n",
       "      <th>999</th>\n",
       "      <td>NEUTROPENIA</td>\n",
       "    </tr>\n",
       "  </tbody>\n",
       "</table>\n",
       "<p>1000 rows × 1 columns</p>\n",
       "</div>"
      ],
      "text/plain": [
       "                         English Reported\n",
       "0                   ULCER LOWER EXTREMITY\n",
       "1    ANTERIOR ACUTE MYOCARDIAL INFARCTION\n",
       "2                       CARDIOGENIC SHOCK\n",
       "3                VENTRICULAR FIBRILLATION\n",
       "4                           THORACIC PAIN\n",
       "..                                    ...\n",
       "995                                 COUGH\n",
       "996             RIGHT UPPER QUADRANT PAIN\n",
       "997                   FEBRILE NEUTROPENIA\n",
       "998                       NAUSEA/VOMITING\n",
       "999                           NEUTROPENIA\n",
       "\n",
       "[1000 rows x 1 columns]"
      ]
     },
     "execution_count": 15,
     "metadata": {},
     "output_type": "execute_result"
    }
   ],
   "source": [
    "data"
   ]
  },
  {
   "cell_type": "code",
   "execution_count": 11,
   "id": "0a061b4c-05a2-4247-be4e-167b841d4390",
   "metadata": {},
   "outputs": [],
   "source": [
    "import spacy\n",
    "nlp_lg = spacy.load('en_core_web_lg')\n",
    "import time as t"
   ]
  },
  {
   "cell_type": "code",
   "execution_count": 8,
   "id": "c67e776e-9719-4bfb-abe0-2c0890c96d49",
   "metadata": {},
   "outputs": [],
   "source": [
    "def spacy_embd(term):\n",
    "    doc = nlp_lg(term) \n",
    "    return doc.vector"
   ]
  },
  {
   "cell_type": "code",
   "execution_count": 32,
   "id": "d51f54ff-876f-425a-8149-ca4d7a438f47",
   "metadata": {},
   "outputs": [
    {
     "name": "stdout",
     "output_type": "stream",
     "text": [
      "3.4199438095092773\n"
     ]
    }
   ],
   "source": [
    "s = t.time()\n",
    "data['embeddings'] = data['English Reported'].apply(spacy_embd)\n",
    "print(t.time()-s)"
   ]
  },
  {
   "cell_type": "code",
   "execution_count": 31,
   "id": "8483102a-9fc3-4d63-b0a7-a2d3227350e0",
   "metadata": {},
   "outputs": [
    {
     "name": "stdout",
     "output_type": "stream",
     "text": [
      "45.73696732521057\n"
     ]
    }
   ],
   "source": [
    "lst = []\n",
    "st = t.time()\n",
    "for i in range(10):\n",
    "    for i,row in data.iterrows():\n",
    "        s = t.time()\n",
    "        spacy_embd(row['English Reported'])\n",
    "        lst.append(t.time()-s)\n",
    "print(t.time()-st)"
   ]
  },
  {
   "cell_type": "code",
   "execution_count": 33,
   "id": "c967aa5b-77e7-42c7-9d9e-8d82221b4048",
   "metadata": {},
   "outputs": [
    {
     "data": {
      "text/plain": [
       "0.04465222215652466"
      ]
     },
     "execution_count": 33,
     "metadata": {},
     "output_type": "execute_result"
    }
   ],
   "source": [
    "avg = sum(lst)/1000\n",
    "avg"
   ]
  },
  {
   "cell_type": "code",
   "execution_count": null,
   "id": "97e21174-d151-4900-92d9-2f0f00c39fdb",
   "metadata": {},
   "outputs": [],
   "source": [
    "# with open(\"autocoding.json\",'w') as f:\n",
    "#     for ind, row in data.iterrows():\n",
    "#         print(f\"{ind}: {row}\")\n",
    "#         index = { \"index\" : { \"_index\": \"medra\", \"_id\" : ind } }\n",
    "#         f.write(json.dumps(index)+'\\n')\n",
    "    \n",
    "#         row_dict = row.to_dict()\n",
    "#         f.write(json.dumps(row_dict)+'\\n')\n",
    "    "
   ]
  },
  {
   "cell_type": "code",
   "execution_count": null,
   "id": "fb9c7cf4-9af7-48bd-a72e-55f0664ba475",
   "metadata": {},
   "outputs": [],
   "source": [
    "# d = pd.read_json(\"autocoding.json\")"
   ]
  },
  {
   "cell_type": "code",
   "execution_count": null,
   "id": "a4481a82-d338-4c03-9ba1-87c98b71d1cc",
   "metadata": {},
   "outputs": [],
   "source": [
    "data_sheet1 = pd.read_excel('/home/chitranshbose/Downloads/Data for MedDRA AutoCoding_EL.xlsx', sheet_name='Sheet1')"
   ]
  },
  {
   "cell_type": "code",
   "execution_count": null,
   "id": "5d172682-6771-461a-a991-9ff9a0c39c8e",
   "metadata": {},
   "outputs": [],
   "source": [
    "data_sheet1"
   ]
  },
  {
   "cell_type": "code",
   "execution_count": null,
   "id": "6521bf54-7db4-44ce-bdc1-e672ec1bd4c1",
   "metadata": {},
   "outputs": [],
   "source": [
    "data_sheet2 = pd.read_excel('/home/chitranshbose/Downloads/Data for MedDRA AutoCoding_EL.xlsx', sheet_name='Sheet2')"
   ]
  },
  {
   "cell_type": "code",
   "execution_count": null,
   "id": "daa67c1a-2198-48a6-a81b-7f6000d645d5",
   "metadata": {},
   "outputs": [],
   "source": [
    "data_sheet2"
   ]
  },
  {
   "cell_type": "code",
   "execution_count": null,
   "id": "a2bb36e3-3b73-471b-9983-263762c78b31",
   "metadata": {},
   "outputs": [],
   "source": [
    "data_sheet3 = pd.read_excel('/home/chitranshbose/Downloads/Data for MedDRA AutoCoding_EL.xlsx', sheet_name='Sheet3')"
   ]
  },
  {
   "cell_type": "code",
   "execution_count": null,
   "id": "f8d97068-fb41-4ca6-aa8c-51fef74e89f6",
   "metadata": {},
   "outputs": [],
   "source": [
    "data_sheet3"
   ]
  },
  {
   "cell_type": "code",
   "execution_count": null,
   "id": "cdef9c76-0109-4ccc-a074-490166210a1f",
   "metadata": {},
   "outputs": [],
   "source": [
    "data_terms[data_terms['CASE_ID']==156856496]"
   ]
  },
  {
   "cell_type": "code",
   "execution_count": null,
   "id": "8f62282a-86dc-48c4-bfaa-07f78442c1ff",
   "metadata": {},
   "outputs": [],
   "source": []
  }
 ],
 "metadata": {
  "kernelspec": {
   "display_name": "Python 3 (ipykernel)",
   "language": "python",
   "name": "python3"
  },
  "language_info": {
   "codemirror_mode": {
    "name": "ipython",
    "version": 3
   },
   "file_extension": ".py",
   "mimetype": "text/x-python",
   "name": "python",
   "nbconvert_exporter": "python",
   "pygments_lexer": "ipython3",
   "version": "3.10.12"
  }
 },
 "nbformat": 4,
 "nbformat_minor": 5
}
